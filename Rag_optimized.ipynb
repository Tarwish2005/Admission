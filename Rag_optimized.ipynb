{
  "nbformat": 4,
  "nbformat_minor": 0,
  "metadata": {
    "colab": {
      "provenance": [],
      "include_colab_link": true
    },
    "kernelspec": {
      "name": "python3",
      "display_name": "Python 3"
    },
    "language_info": {
      "name": "python"
    }
  },
  "cells": [
    {
      "cell_type": "markdown",
      "metadata": {
        "id": "view-in-github",
        "colab_type": "text"
      },
      "source": [
        "<a href=\"https://colab.research.google.com/github/Tarwish2005/Admission/blob/main/Rag_optimized.ipynb\" target=\"_parent\"><img src=\"https://colab.research.google.com/assets/colab-badge.svg\" alt=\"Open In Colab\"/></a>"
      ]
    },
    {
      "cell_type": "code",
      "execution_count": 2,
      "metadata": {
        "id": "KnKcrp5eRJGO",
        "colab": {
          "base_uri": "https://localhost:8080/"
        },
        "outputId": "ff1f74b6-1b10-4e48-b4e8-0eb7cf02d08a"
      },
      "outputs": [
        {
          "name": "stdout",
          "output_type": "stream",
          "text": [
            "\u001b[2K     \u001b[90m━━━━━━━━━━━━━━━━━━━━━━━━━━━━━━━━━━━━━━━━\u001b[0m \u001b[32m43.7/43.7 kB\u001b[0m \u001b[31m3.0 MB/s\u001b[0m eta \u001b[36m0:00:00\u001b[0m\n",
            "\u001b[2K   \u001b[90m━━━━━━━━━━━━━━━━━━━━━━━━━━━━━━━━━━━━━━━━\u001b[0m \u001b[32m2.5/2.5 MB\u001b[0m \u001b[31m35.3 MB/s\u001b[0m eta \u001b[36m0:00:00\u001b[0m\n",
            "\u001b[2K   \u001b[90m━━━━━━━━━━━━━━━━━━━━━━━━━━━━━━━━━━━━━━━━\u001b[0m \u001b[32m153.2/153.2 kB\u001b[0m \u001b[31m12.8 MB/s\u001b[0m eta \u001b[36m0:00:00\u001b[0m\n",
            "\u001b[2K   \u001b[90m━━━━━━━━━━━━━━━━━━━━━━━━━━━━━━━━━━━━━━━━\u001b[0m \u001b[32m74.3/74.3 kB\u001b[0m \u001b[31m5.6 MB/s\u001b[0m eta \u001b[36m0:00:00\u001b[0m\n",
            "\u001b[2K   \u001b[90m━━━━━━━━━━━━━━━━━━━━━━━━━━━━━━━━━━━━━━━━\u001b[0m \u001b[32m31.3/31.3 MB\u001b[0m \u001b[31m60.1 MB/s\u001b[0m eta \u001b[36m0:00:00\u001b[0m\n",
            "\u001b[2K   \u001b[90m━━━━━━━━━━━━━━━━━━━━━━━━━━━━━━━━━━━━━━━━\u001b[0m \u001b[32m313.2/313.2 kB\u001b[0m \u001b[31m20.9 MB/s\u001b[0m eta \u001b[36m0:00:00\u001b[0m\n",
            "\u001b[2K   \u001b[90m━━━━━━━━━━━━━━━━━━━━━━━━━━━━━━━━━━━━━━━━\u001b[0m \u001b[32m483.4/483.4 kB\u001b[0m \u001b[31m27.2 MB/s\u001b[0m eta \u001b[36m0:00:00\u001b[0m\n",
            "\u001b[2K   \u001b[90m━━━━━━━━━━━━━━━━━━━━━━━━━━━━━━━━━━━━━━━━\u001b[0m \u001b[32m888.1/888.1 MB\u001b[0m \u001b[31m1.8 MB/s\u001b[0m eta \u001b[36m0:00:00\u001b[0m\n",
            "\u001b[2K   \u001b[90m━━━━━━━━━━━━━━━━━━━━━━━━━━━━━━━━━━━━━━━━\u001b[0m \u001b[32m594.3/594.3 MB\u001b[0m \u001b[31m2.8 MB/s\u001b[0m eta \u001b[36m0:00:00\u001b[0m\n",
            "\u001b[2K   \u001b[90m━━━━━━━━━━━━━━━━━━━━━━━━━━━━━━━━━━━━━━━━\u001b[0m \u001b[32m10.2/10.2 MB\u001b[0m \u001b[31m107.2 MB/s\u001b[0m eta \u001b[36m0:00:00\u001b[0m\n",
            "\u001b[2K   \u001b[90m━━━━━━━━━━━━━━━━━━━━━━━━━━━━━━━━━━━━━━━━\u001b[0m \u001b[32m88.0/88.0 MB\u001b[0m \u001b[31m8.9 MB/s\u001b[0m eta \u001b[36m0:00:00\u001b[0m\n",
            "\u001b[2K   \u001b[90m━━━━━━━━━━━━━━━━━━━━━━━━━━━━━━━━━━━━━━━━\u001b[0m \u001b[32m954.8/954.8 kB\u001b[0m \u001b[31m46.7 MB/s\u001b[0m eta \u001b[36m0:00:00\u001b[0m\n",
            "\u001b[2K   \u001b[90m━━━━━━━━━━━━━━━━━━━━━━━━━━━━━━━━━━━━━━━━\u001b[0m \u001b[32m706.8/706.8 MB\u001b[0m \u001b[31m2.0 MB/s\u001b[0m eta \u001b[36m0:00:00\u001b[0m\n",
            "\u001b[2K   \u001b[90m━━━━━━━━━━━━━━━━━━━━━━━━━━━━━━━━━━━━━━━━\u001b[0m \u001b[32m193.1/193.1 MB\u001b[0m \u001b[31m6.1 MB/s\u001b[0m eta \u001b[36m0:00:00\u001b[0m\n",
            "\u001b[2K   \u001b[90m━━━━━━━━━━━━━━━━━━━━━━━━━━━━━━━━━━━━━━━━\u001b[0m \u001b[32m1.2/1.2 MB\u001b[0m \u001b[31m55.2 MB/s\u001b[0m eta \u001b[36m0:00:00\u001b[0m\n",
            "\u001b[2K   \u001b[90m━━━━━━━━━━━━━━━━━━━━━━━━━━━━━━━━━━━━━━━━\u001b[0m \u001b[32m63.6/63.6 MB\u001b[0m \u001b[31m12.4 MB/s\u001b[0m eta \u001b[36m0:00:00\u001b[0m\n",
            "\u001b[2K   \u001b[90m━━━━━━━━━━━━━━━━━━━━━━━━━━━━━━━━━━━━━━━━\u001b[0m \u001b[32m267.5/267.5 MB\u001b[0m \u001b[31m5.0 MB/s\u001b[0m eta \u001b[36m0:00:00\u001b[0m\n",
            "\u001b[2K   \u001b[90m━━━━━━━━━━━━━━━━━━━━━━━━━━━━━━━━━━━━━━━━\u001b[0m \u001b[32m288.2/288.2 MB\u001b[0m \u001b[31m5.3 MB/s\u001b[0m eta \u001b[36m0:00:00\u001b[0m\n",
            "\u001b[2K   \u001b[90m━━━━━━━━━━━━━━━━━━━━━━━━━━━━━━━━━━━━━━━━\u001b[0m \u001b[32m287.2/287.2 MB\u001b[0m \u001b[31m4.6 MB/s\u001b[0m eta \u001b[36m0:00:00\u001b[0m\n",
            "\u001b[2K   \u001b[90m━━━━━━━━━━━━━━━━━━━━━━━━━━━━━━━━━━━━━━━━\u001b[0m \u001b[32m322.4/322.4 MB\u001b[0m \u001b[31m4.7 MB/s\u001b[0m eta \u001b[36m0:00:00\u001b[0m\n",
            "\u001b[2K   \u001b[90m━━━━━━━━━━━━━━━━━━━━━━━━━━━━━━━━━━━━━━━━\u001b[0m \u001b[32m39.3/39.3 MB\u001b[0m \u001b[31m37.5 MB/s\u001b[0m eta \u001b[36m0:00:00\u001b[0m\n",
            "\u001b[2K   \u001b[90m━━━━━━━━━━━━━━━━━━━━━━━━━━━━━━━━━━━━━━━━\u001b[0m \u001b[32m90.0/90.0 kB\u001b[0m \u001b[31m7.1 MB/s\u001b[0m eta \u001b[36m0:00:00\u001b[0m\n",
            "\u001b[2K   \u001b[90m━━━━━━━━━━━━━━━━━━━━━━━━━━━━━━━━━━━━━━━━\u001b[0m \u001b[32m155.5/155.5 MB\u001b[0m \u001b[31m8.0 MB/s\u001b[0m eta \u001b[36m0:00:00\u001b[0m\n",
            "\u001b[2K   \u001b[90m━━━━━━━━━━━━━━━━━━━━━━━━━━━━━━━━━━━━━━━━\u001b[0m \u001b[32m243.4/243.4 kB\u001b[0m \u001b[31m18.8 MB/s\u001b[0m eta \u001b[36m0:00:00\u001b[0m\n",
            "\u001b[2K   \u001b[90m━━━━━━━━━━━━━━━━━━━━━━━━━━━━━━━━━━━━━━━━\u001b[0m \u001b[32m443.5/443.5 kB\u001b[0m \u001b[31m28.4 MB/s\u001b[0m eta \u001b[36m0:00:00\u001b[0m\n",
            "\u001b[2K   \u001b[90m━━━━━━━━━━━━━━━━━━━━━━━━━━━━━━━━━━━━━━━━\u001b[0m \u001b[32m43.9/43.9 kB\u001b[0m \u001b[31m3.2 MB/s\u001b[0m eta \u001b[36m0:00:00\u001b[0m\n",
            "\u001b[2K   \u001b[90m━━━━━━━━━━━━━━━━━━━━━━━━━━━━━━━━━━━━━━━━\u001b[0m \u001b[32m50.6/50.6 kB\u001b[0m \u001b[31m3.6 MB/s\u001b[0m eta \u001b[36m0:00:00\u001b[0m\n",
            "\u001b[2K   \u001b[90m━━━━━━━━━━━━━━━━━━━━━━━━━━━━━━━━━━━━━━━━\u001b[0m \u001b[32m45.2/45.2 kB\u001b[0m \u001b[31m3.5 MB/s\u001b[0m eta \u001b[36m0:00:00\u001b[0m\n",
            "\u001b[2K   \u001b[90m━━━━━━━━━━━━━━━━━━━━━━━━━━━━━━━━━━━━━━━━\u001b[0m \u001b[32m6.3/6.3 MB\u001b[0m \u001b[31m82.7 MB/s\u001b[0m eta \u001b[36m0:00:00\u001b[0m\n",
            "\u001b[2K   \u001b[90m━━━━━━━━━━━━━━━━━━━━━━━━━━━━━━━━━━━━━━━━\u001b[0m \u001b[32m50.9/50.9 kB\u001b[0m \u001b[31m3.7 MB/s\u001b[0m eta \u001b[36m0:00:00\u001b[0m\n",
            "\u001b[2K   \u001b[90m━━━━━━━━━━━━━━━━━━━━━━━━━━━━━━━━━━━━━━━━\u001b[0m \u001b[32m216.5/216.5 kB\u001b[0m \u001b[31m15.9 MB/s\u001b[0m eta \u001b[36m0:00:00\u001b[0m\n",
            "\u001b[?25h\u001b[31mERROR: pip's dependency resolver does not currently take into account all the packages that are installed. This behaviour is the source of the following dependency conflicts.\n",
            "torchaudio 2.6.0+cu124 requires torch==2.6.0, but you have torch 2.8.0 which is incompatible.\n",
            "fastai 2.7.19 requires torch<2.7,>=1.10, but you have torch 2.8.0 which is incompatible.\n",
            "torchvision 0.21.0+cu124 requires torch==2.6.0, but you have torch 2.8.0 which is incompatible.\n",
            "bigframes 2.13.0 requires rich<14,>=12.4.4, but you have rich 14.1.0 which is incompatible.\u001b[0m\u001b[31m\n",
            "\u001b[0mEnter your OpenAI API Key: ··········\n",
            "Enter your LangChain API Key: ··········\n"
          ]
        }
      ],
      "source": [
        "# Install dependencies (if using Colab/Jupyter)\n",
        "%pip install --quiet --upgrade langchain-text-splitters langchain-community langgraph langchain-openai faiss-cpu pypdf sentence-transformers torch rich\n",
        "\n",
        "import os\n",
        "import getpass\n",
        "import logging\n",
        "import time\n",
        "from typing import List, Dict, Any\n",
        "from typing_extensions import TypedDict\n",
        "from dataclasses import dataclass\n",
        "from pydantic import BaseModel, Field\n",
        "from concurrent.futures import ThreadPoolExecutor\n",
        "\n",
        "from langchain.chat_models import init_chat_model\n",
        "from langchain_openai import OpenAIEmbeddings\n",
        "from langchain_community.document_loaders import PyPDFLoader\n",
        "from langchain_text_splitters import RecursiveCharacterTextSplitter\n",
        "from langchain_community.vectorstores import FAISS\n",
        "from langchain_core.documents import Document\n",
        "from langchain import hub\n",
        "from langgraph.graph import StateGraph, END, START\n",
        "from rich import print as rprint  # For better console formatting\n",
        "\n",
        "# Prompt for keys\n",
        "if not os.environ.get(\"OPENAI_API_KEY\"):\n",
        "    os.environ[\"OPENAI_API_KEY\"] = getpass.getpass(\"Enter your OpenAI API Key: \")\n",
        "if not os.environ.get(\"LANGCHAIN_API_KEY\"):\n",
        "    os.environ[\"LANGCHAIN_API_KEY\"] = getpass.getpass(\"Enter your LangChain API Key: \")\n",
        "os.environ[\"LANGSMITH_TRACING\"] = \"true\"\n",
        "\n",
        "# Logging setup\n",
        "logging.basicConfig(level=logging.INFO)\n",
        "logger = logging.getLogger(__name__)\n",
        "\n",
        "@dataclass\n",
        "class PerformanceMetrics:\n",
        "    query_time: float = 0.0\n",
        "    retrieval_time: float = 0.0\n",
        "    generation_time: float = 0.0\n",
        "    total_time: float = 0.0\n",
        "    chunks_retrieved: int = 0\n",
        "\n",
        "class EnhancedSearch(BaseModel):\n",
        "    query: str = Field(description=\"The actual user query\")\n",
        "    section: str = Field(default=\"\", description=\"Section reference\")\n",
        "    clause_type: str = Field(default=\"\", description=\"Clause type\")\n",
        "    keywords: List[str] = Field(default_factory=list, description=\"Key terms\")\n",
        "    priority: str = Field(default=\"standard\", description=\"Priority\")\n",
        "\n",
        "class EnhancedState(TypedDict):\n",
        "    question: str\n",
        "    query: EnhancedSearch\n",
        "    context: List[Document]\n",
        "    logic_result: str\n",
        "    answer: str\n",
        "    metrics: PerformanceMetrics\n",
        "    intermediate_results: Dict[str, Any]\n",
        "\n",
        "class OptimizedRAGSystem:\n",
        "    def __init__(self, model_name: str = \"gpt-4o-mini\"):\n",
        "        self.llm = init_chat_model(model_name, model_provider=\"openai\")\n",
        "        self.embeddings = OpenAIEmbeddings(model=\"text-embedding-3-large\", chunk_size=1000)\n",
        "        self.vector_store = None\n",
        "        self.executor = ThreadPoolExecutor(max_workers=4)\n",
        "        self.query_cache = {}\n",
        "\n",
        "    def load_and_process_document(self, file_path: str) -> None:\n",
        "        loader = PyPDFLoader(file_path)\n",
        "        pages = loader.load()\n",
        "\n",
        "        text_splitter = RecursiveCharacterTextSplitter(\n",
        "            chunk_size=800, chunk_overlap=150, add_start_index=True,\n",
        "            separators=[\"\\n\\n\", \"\\n\", \".\", \"!\", \"?\", \",\", \" \", \"\"]\n",
        "        )\n",
        "        all_splits = text_splitter.split_documents(pages)\n",
        "\n",
        "        self.vector_store = FAISS.from_documents(\n",
        "            all_splits, self.embeddings, normalize_L2=True\n",
        "        )\n",
        "        logger.info(f\"Processed {len(all_splits)} chunks.\")\n",
        "\n",
        "    def enhanced_query_analysis(self, state: EnhancedState):\n",
        "        question = state[\"question\"]\n",
        "        if question in self.query_cache:\n",
        "            return {\"query\": self.query_cache[question]}\n",
        "\n",
        "        prompt = f\"\"\"\n",
        "        Analyze and extract structured info:\n",
        "        Question: {question}\n",
        "        Return clause_type, keywords, and section if mentioned.\n",
        "        \"\"\"\n",
        "        structured_llm = self.llm.with_structured_output(EnhancedSearch)\n",
        "        result = structured_llm.invoke(prompt)\n",
        "        self.query_cache[question] = result\n",
        "        return {\"query\": result}\n",
        "\n",
        "    def hybrid_retrieval(self, state: EnhancedState):\n",
        "        query = state[\"query\"]\n",
        "        semantic_results = self.vector_store.similarity_search_with_score(query.query, k=15, fetch_k=30)\n",
        "        filtered = [(doc, score) for doc, score in semantic_results if score < 0.8]\n",
        "\n",
        "        if query.clause_type:\n",
        "            filtered = [\n",
        "                (doc, score) for doc, score in filtered\n",
        "                if query.clause_type.lower() in doc.page_content.lower()\n",
        "            ] or filtered\n",
        "\n",
        "        filtered.sort(key=lambda x: x[1])\n",
        "        final_docs = [doc for doc, _ in filtered[:6]]\n",
        "        return {\"context\": final_docs}\n",
        "\n",
        "    def parallel_logic_evaluation(self, state: EnhancedState):\n",
        "        docs = state[\"context\"]\n",
        "        clause = state[\"query\"].clause_type or \"relevant info\"\n",
        "        if not docs:\n",
        "            return {\"logic_result\": \"No relevant context found\"}\n",
        "\n",
        "        def evaluate_chunk(docs_chunk):\n",
        "            context = \"\\n\\n\".join(doc.page_content for doc in docs_chunk)\n",
        "            prompt = f\"Context:\\n{context}\\n\\nEvaluate relevance to: '{clause}'\"\n",
        "            return self.llm.invoke(prompt).content\n",
        "\n",
        "        if len(docs) > 3:\n",
        "            mid = len(docs)//2\n",
        "            result1 = self.executor.submit(evaluate_chunk, docs[:mid]).result()\n",
        "            result2 = self.executor.submit(evaluate_chunk, docs[mid:]).result()\n",
        "            return {\"logic_result\": f\"{result1}\\n\\n{result2}\"}\n",
        "\n",
        "        return {\"logic_result\": evaluate_chunk(docs)}\n",
        "\n",
        "    def optimized_generation(self, state: EnhancedState):\n",
        "        context = \"\\n\\n\".join(doc.page_content for doc in state[\"context\"])\n",
        "        prompt = f\"\"\"\n",
        "        You are an expert document QA agent. Answer clearly.\n",
        "\n",
        "        Question: {state['question']}\n",
        "\n",
        "        Context:\n",
        "        {context}\n",
        "\n",
        "        Prior Analysis:\n",
        "        {state.get('logic_result', '')}\n",
        "\n",
        "        Instructions:\n",
        "        - Answer factually using only context.\n",
        "        - Include specific amounts, exclusions, or rules.\n",
        "        - Say what's missing if info is incomplete.\n",
        "        \"\"\"\n",
        "        response = self.llm.invoke(prompt)\n",
        "        return {\"answer\": response.content}\n",
        "\n",
        "# Pipeline setup\n",
        "def create_optimized_rag_system(file_path: str) -> OptimizedRAGSystem:\n",
        "    system = OptimizedRAGSystem()\n",
        "    system.load_and_process_document(file_path)\n",
        "\n",
        "    graph = (\n",
        "        StateGraph(EnhancedState)\n",
        "        .add_node(\"analyze_query\", system.enhanced_query_analysis)\n",
        "        .add_node(\"retrieve\", system.hybrid_retrieval)\n",
        "        .add_node(\"evaluate\", system.parallel_logic_evaluation)\n",
        "        .add_node(\"generate\", system.optimized_generation)\n",
        "        .add_edge(START, \"analyze_query\")\n",
        "        .add_edge(\"analyze_query\", \"retrieve\")\n",
        "        .add_edge(\"retrieve\", \"evaluate\")\n",
        "        .add_edge(\"evaluate\", \"generate\")\n",
        "        .add_edge(\"generate\", END)\n",
        "        .compile()\n",
        "    )\n",
        "    system.graph = graph\n",
        "    return system\n",
        "\n",
        "def ask_question_optimized(system: OptimizedRAGSystem, question: str, verbose: bool = True):\n",
        "    result = system.graph.invoke({\"question\": question, \"metrics\": PerformanceMetrics()})\n",
        "\n",
        "    if verbose:\n",
        "        rprint(\"\\n[bold cyan]🧠 Final Answer[/bold cyan]\\n\")\n",
        "        rprint(result[\"answer\"])\n",
        "    return result\n",
        "\n",
        "\n"
      ]
    },
    {
      "cell_type": "code",
      "source": [
        "file_path = \"/content/24072023125302773.pdf\"\n",
        "rag_system = create_optimized_rag_system(file_path)\n",
        "ask_question_optimized(rag_system, \"What is the reporting venue for boys allotted NIT Rourkela during JoSAA/CSAB 2023 admissions?\")\n"
      ],
      "metadata": {
        "colab": {
          "base_uri": "https://localhost:8080/",
          "height": 1000
        },
        "id": "c0zt0EnBRRMx",
        "outputId": "e6171f80-3123-40c4-e115-08ad544483fc"
      },
      "execution_count": 3,
      "outputs": [
        {
          "output_type": "stream",
          "name": "stderr",
          "text": [
            "WARNING:langsmith.client:Failed to send compressed multipart ingest: langsmith.utils.LangSmithError: Failed to POST https://api.smith.langchain.com/runs/multipart in LangSmith API. HTTPError('403 Client Error: Forbidden for url: https://api.smith.langchain.com/runs/multipart', '{\"error\":\"Forbidden\"}\\n')\n",
            "WARNING:langsmith.client:Failed to send compressed multipart ingest: langsmith.utils.LangSmithError: Failed to POST https://api.smith.langchain.com/runs/multipart in LangSmith API. HTTPError('403 Client Error: Forbidden for url: https://api.smith.langchain.com/runs/multipart', '{\"error\":\"Forbidden\"}\\n')\n",
            "WARNING:langsmith.client:Failed to send compressed multipart ingest: langsmith.utils.LangSmithError: Failed to POST https://api.smith.langchain.com/runs/multipart in LangSmith API. HTTPError('403 Client Error: Forbidden for url: https://api.smith.langchain.com/runs/multipart', '{\"error\":\"Forbidden\"}\\n')\n",
            "WARNING:langsmith.client:Failed to send compressed multipart ingest: langsmith.utils.LangSmithError: Failed to POST https://api.smith.langchain.com/runs/multipart in LangSmith API. HTTPError('403 Client Error: Forbidden for url: https://api.smith.langchain.com/runs/multipart', '{\"error\":\"Forbidden\"}\\n')\n"
          ]
        },
        {
          "output_type": "display_data",
          "data": {
            "text/plain": [
              "\n",
              "\u001b[1;36m🧠 Final Answer\u001b[0m\n",
              "\n"
            ],
            "text/html": [
              "<pre style=\"white-space:pre;overflow-x:auto;line-height:normal;font-family:Menlo,'DejaVu Sans Mono',consolas,'Courier New',monospace\">\n",
              "<span style=\"color: #008080; text-decoration-color: #008080; font-weight: bold\">🧠 Final Answer</span>\n",
              "\n",
              "</pre>\n"
            ]
          },
          "metadata": {}
        },
        {
          "output_type": "display_data",
          "data": {
            "text/plain": [
              "The reporting venue for boys allotted to NIT Rourkela during the JoSAA/CSAB \u001b[1;36m2023\u001b[0m admissions is the **VS Hall of \n",
              "Residence**. Candidates must report during the period from **16th August \u001b[1;36m2023\u001b[0m to 21st August \u001b[1;36m2023\u001b[0m** for document \n",
              "verification and admission processes, which will take place at the **Bhubaneswar Behera Auditorium** for the \n",
              "specified branches. \n",
              "\n",
              "The context does not specify any further details about the exact timing for reporting, nor does it mention any \n",
              "additional rules or requirements beyond those related to document verification. If more specific timing or \n",
              "instructions for the admission process are needed, those details are not included in the provided context.\n"
            ],
            "text/html": [
              "<pre style=\"white-space:pre;overflow-x:auto;line-height:normal;font-family:Menlo,'DejaVu Sans Mono',consolas,'Courier New',monospace\">The reporting venue for boys allotted to NIT Rourkela during the JoSAA/CSAB <span style=\"color: #008080; text-decoration-color: #008080; font-weight: bold\">2023</span> admissions is the **VS Hall of \n",
              "Residence**. Candidates must report during the period from **16th August <span style=\"color: #008080; text-decoration-color: #008080; font-weight: bold\">2023</span> to 21st August <span style=\"color: #008080; text-decoration-color: #008080; font-weight: bold\">2023</span>** for document \n",
              "verification and admission processes, which will take place at the **Bhubaneswar Behera Auditorium** for the \n",
              "specified branches. \n",
              "\n",
              "The context does not specify any further details about the exact timing for reporting, nor does it mention any \n",
              "additional rules or requirements beyond those related to document verification. If more specific timing or \n",
              "instructions for the admission process are needed, those details are not included in the provided context.\n",
              "</pre>\n"
            ]
          },
          "metadata": {}
        },
        {
          "output_type": "execute_result",
          "data": {
            "text/plain": [
              "{'question': 'What is the reporting venue for boys allotted NIT Rourkela during JoSAA/CSAB 2023 admissions?',\n",
              " 'query': EnhancedSearch(query='What is the reporting venue for boys allotted NIT Rourkela during JoSAA/CSAB 2023 admissions?', section='NIT Rourkela Admissions', clause_type='Reporting Venue', keywords=['reporting venue', 'boys', 'NIT Rourkela', 'JoSAA', 'CSAB 2023', 'admissions'], priority='high'),\n",
              " 'context': [Document(id='1d11c0fb-1642-43ec-b0bd-095768d026b1', metadata={'producer': 'Microsoft® Word 2016', 'creator': 'Microsoft® Word 2016', 'creationdate': '2023-07-24T12:54:38+05:30', 'author': 'ASST. REG ACADEMIC', 'moddate': '2023-07-24T12:54:38+05:30', 'source': '/content/24072023125302773.pdf', 'total_pages': 14, 'page': 0, 'page_label': '1', 'start_index': 593}, page_content='Institute of Technology, Rourkela through JOSAA – 2023/CSAB – 2023 conducted by NIT Rourkela \\nwill be during 16th Aug 2023 to 21st Aug 2023. \\n \\nCandidates who are allotted NIT Rourkela are advised to  follow instructions at JOSAA Website and \\npay partial admission fees. They need  to fill necessary details at NIT  Rourkela online portal: \\nhttp://eapplication.nitrkl.ac.in before reporting to the institute. Physical document  verification will \\nfollow the schedule below: \\nEvent Venue Allotted Branch Time Date \\nReporting at hall \\nof Residence \\nVS Hall of Residence \\nfor Boys. \\nKMS/BF Hall of \\nResidence for Girls. \\n- - 16.08.2023 to \\n21.08.2023 \\nDocument  \\nverification \\n& Admission \\nBhubaneswar Behera \\nAuditorium \\nComputer Science and Engg. (CS), Civil \\nEngg. (CE), Architecture (AR) \\n10.00hrs'),\n",
              "  Document(id='a99f9fb9-6099-4447-9551-5777133485e2', metadata={'producer': 'Microsoft® Word 2016', 'creator': 'Microsoft® Word 2016', 'creationdate': '2023-07-24T12:54:38+05:30', 'author': 'ASST. REG ACADEMIC', 'moddate': '2023-07-24T12:54:38+05:30', 'source': '/content/24072023125302773.pdf', 'total_pages': 14, 'page': 0, 'page_label': '1', 'start_index': 0}, page_content='National Institute of Technology, Rourkela JOSAA Admission 2023 - 24 Page 1 of 10  \\nINSTRUCTIONS FOR ADMISSION TO VARIOUS UG PROGRAMMES \\n   (THROUGH   JOSAA/CSAB-2023) FOR THE SESSION 2023-24 \\n \\n \\n \\nराष्ट्रीय प्रौद्योगिकी संस्थान,राउरक े ला \\nNATIONAL INSTITUTE OF TECHNOLOGY ROURKELA \\n \\nNITR/AC/UG-PG/2023/L/ 1226                                                                                  Date: 21.07.2023 \\n[ALL CONCERNED ARE REQUESTED TO READ THE INSTRUCTIONS COMPLETELY \\nAND CAREFULLY] \\nThe Admission to different Programmes (B. Tech, B.Arch., Dual  Degree and Int. MSc.) at National \\nInstitute of Technology, Rourkela through JOSAA – 2023/CSAB – 2023 conducted by NIT Rourkela \\nwill be during 16th Aug 2023 to 21st Aug 2023.'),\n",
              "  Document(id='1698f716-b77f-4ce8-88a4-fd3f0060228b', metadata={'producer': 'Microsoft® Word 2016', 'creator': 'Microsoft® Word 2016', 'creationdate': '2023-07-24T12:54:38+05:30', 'author': 'ASST. REG ACADEMIC', 'moddate': '2023-07-24T12:54:38+05:30', 'source': '/content/24072023125302773.pdf', 'total_pages': 14, 'page': 1, 'page_label': '2', 'start_index': 0}, page_content='National Institute of Technology, Rourkela JOSAA Admission 2023 - 24 Page 2 of 10  \\nAdmission Procedure: \\nFor admission, candidates are required to bring the following documents in ORIGINAL with \\nself-attested copies of each. \\n1. Printout of the “Online  Enrollment form” & “Address  Slips” obtained  from \\nhttp://eapplication.nitrkl.ac.in \\n2. Provisional Seat Allotment letter in original received from JOSSA /CSAB-2023. \\n3. Letter on subsequent upgradation, downloaded from JOSSA /CSAB website (last round \\nallotment), even if there is no up-gradation \\n4. JEE(Main) Rank card  \\n5. Pass Certificate of High School Certificate Examination/Equivalent Examination/Birth \\ncertificate for proof of date of birth [Original + 1 photocopy, Original will be returned]'),\n",
              "  Document(id='3e9fef22-9f7b-4ea2-a3f1-bc1dcaac514d', metadata={'producer': 'Microsoft® Word 2016', 'creator': 'Microsoft® Word 2016', 'creationdate': '2023-07-24T12:54:38+05:30', 'author': 'ASST. REG ACADEMIC', 'moddate': '2023-07-24T12:54:38+05:30', 'source': '/content/24072023125302773.pdf', 'total_pages': 14, 'page': 3, 'page_label': '4', 'start_index': 0}, page_content='National Institute of Technology, Rourkela JOSAA Admission 2023 - 24 Page 4 of 10  \\n \\nFor further details on admission queries please contact: \\n \\nAssistant Registrar (AC), NIT Rourkela \\nEmail: admission@nitrkl.ac.in  / ugpghelp@nitrkl.ac.in  \\nPh.    : 0661 – 246 2038/4060 \\n \\n \\n \\n \\nSd/- \\nAsst. Registrar (Academic) \\nCopy to: \\n1. Institute Website \\n2. Director for kind information \\n3. Registrar for kind information \\n4. Chief Warden of Halls for necessary action \\n5. Dean [AC] \\n6. PIC-Admission \\n7. Associate Dean (AC – UG/PG(R))  \\n8. JR (AC-RES), AR(F&A)  \\n9. HOU- SS \\n10. UG/PG Admission File')],\n",
              " 'logic_result': 'The context provided includes details about the admission process for candidates allotted to the National Institute of Technology (NIT) Rourkela through JOSAA/CSAB 2023. The relevant information pertaining to the \\'Reporting Venue\\' is as follows:\\n\\n1. **Venue for Reporting**: Candidates are required to report at specific halls of residence, namely:\\n   - Boys: VS Hall of Residence\\n   - Girls: KMS/BF Hall of Residence\\n\\n2. **Time Frame for Reporting**: Candidates must report during the period from **16th August 2023 to 21st August 2023**.\\n\\n3. **Purpose of Reporting**: Upon arrival at the reporting venue, candidates need to undergo document verification and complete the admission process.\\n\\nThis information is crucial for candidates as it provides the necessary details regarding where and when they should report for their admission process at NIT Rourkela. Thus, the provided context is highly relevant to the \\'Reporting Venue\\' aspect of the admission instructions.\\n\\nThe provided context does not include specific information about a \"Reporting Venue\" for the admission process at the National Institute of Technology, Rourkela. It outlines the documents required for admission but does not mention where candidates need to report for the admission process. Therefore, the relevance to \"Reporting Venue\" is low based on the text provided. If details about the reporting venue are needed, they would likely be found elsewhere, possibly in other official communications or on the institute\\'s website.',\n",
              " 'answer': 'The reporting venue for boys allotted to NIT Rourkela during the JoSAA/CSAB 2023 admissions is the **VS Hall of Residence**. Candidates must report during the period from **16th August 2023 to 21st August 2023** for document verification and admission processes, which will take place at the **Bhubaneswar Behera Auditorium** for the specified branches. \\n\\nThe context does not specify any further details about the exact timing for reporting, nor does it mention any additional rules or requirements beyond those related to document verification. If more specific timing or instructions for the admission process are needed, those details are not included in the provided context.',\n",
              " 'metrics': PerformanceMetrics(query_time=0.0, retrieval_time=0.0, generation_time=0.0, total_time=0.0, chunks_retrieved=0)}"
            ]
          },
          "metadata": {},
          "execution_count": 3
        }
      ]
    },
    {
      "cell_type": "code",
      "source": [],
      "metadata": {
        "id": "YN8Z0RZvTzjp"
      },
      "execution_count": null,
      "outputs": []
    }
  ]
}